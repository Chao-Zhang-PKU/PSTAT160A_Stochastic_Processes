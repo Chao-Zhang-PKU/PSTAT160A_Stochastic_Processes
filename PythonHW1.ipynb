{
 "cells": [
  {
   "cell_type": "markdown",
   "metadata": {},
   "source": [
    "# Python Homework 1"
   ]
  },
  {
   "cell_type": "markdown",
   "metadata": {},
   "source": [
    "<b> Instructions:</b> This Python Homework will be due on <b> Monday, January 21th, at 11:59 p.m.</b> You have to submit your version of this Jupyter Notebook via GauchoSpace!"
   ]
  },
  {
   "cell_type": "markdown",
   "metadata": {},
   "source": [
    "In this homework you are supposed to use the random number generater random.random_sample from the numpy package to generate random numbers with three different distributions. \n",
    "\n",
    "Recall from the lecture that if $F:\\mathbb{R}\\rightarrow [0,1]$ is a distribution function with generalized inverse $F^{-1}:[0,1]\\rightarrow \\mathbb{R}$ and $U$ is a uniform random variable, then $F^{-1}(U)$ is a random variable with distribution function $F$.\n",
    "\n",
    "Using the function random.random_sample from numpy package write three functions: \n",
    "* exponentialRV(seed, mean,n) that returns for given seed a bunch of n random variables from an exponential distribution with the provided mean. Derive the generalized inverse distribution function analytically for your simulation.\n",
    "* poissonRV(seed, mean,n) that returns for given seed a bunch of n Poisson distributed random numbers with the provided mean. You have to numerically calculate the inverse distribution function.\n",
    "* funnyDiceRV(seed,n) that returns for given seed a bunch of n random number which describe a biased die with distribution $\\mathbb{P}(\\{1\\})=\\mathbb{P}(\\{2\\})=\\mathbb{P}(\\{3\\})=\\mathbb{P}(\\{4\\})=\\mathbb{P}(\\{5\\})=1/10$ and $\\mathbb{P}(\\{6\\})=1/2$."
   ]
  },
  {
   "cell_type": "code",
   "execution_count": 36,
   "metadata": {},
   "outputs": [],
   "source": [
    "import numpy as np\n",
    "import math\n",
    "import matplotlib.pyplot as plt"
   ]
  },
  {
   "cell_type": "markdown",
   "metadata": {},
   "source": [
    "Here should come your code for the three functions:\n"
   ]
  },
  {
   "cell_type": "code",
   "execution_count": 37,
   "metadata": {},
   "outputs": [],
   "source": [
    "# author: Sean Han Byul Lee\n",
    "def exponentialRV(seed, mean,n):\n",
    "    \n",
    "    ##Here write your own code\n",
    "    \n",
    "    # give seed to random generator\n",
    "    np.random.seed(seed)\n",
    "    \n",
    "    # sample list of u\n",
    "    listOfUs = np.random.random_sample(n)\n",
    "    \n",
    "    # inverse cdf of u\n",
    "    cdfInvU = -1 * mean * np.log(1-listOfUs)\n",
    "    \n",
    "    # give the array cdfInvU to the return value\n",
    "    expontialSample = cdfInvU\n",
    "    \n",
    "    return expontialSample"
   ]
  },
  {
   "cell_type": "code",
   "execution_count": 38,
   "metadata": {},
   "outputs": [],
   "source": [
    "def poissonRV(seed, mean, n):\n",
    "   \n",
    "    ##Here write your own code\n",
    "    \n",
    "    # give seed to random generator\n",
    "    np.random.seed(seed)\n",
    "    \n",
    "    # empty poisson sample array\n",
    "    poissonSample = []\n",
    "    \n",
    "    # generate poisson dirstributed random values\n",
    "    lim = np.exp(-1 * mean)\n",
    "    \n",
    "    # taking limit number and find minimum number for inverse poisson\n",
    "    for i in range(n):\n",
    "        prod = np.random.random_sample(1)\n",
    "        poisVal = 0\n",
    "        while(prod >= lim):\n",
    "            prod *= np.random.random_sample(1)\n",
    "            poisVal += 1\n",
    "        poissonSample.append(poisVal)\n",
    "\n",
    "    return poissonSample"
   ]
  },
  {
   "cell_type": "code",
   "execution_count": 39,
   "metadata": {},
   "outputs": [],
   "source": [
    "def funnyDiceRV(seed, n):\n",
    "      \n",
    "    ##Here write your own code\n",
    "    \n",
    "    # empty list\n",
    "    funnyDiceSample = []\n",
    "    np.random.seed(seed)\n",
    "    \n",
    "    for i in range(n):\n",
    "        randomFloat = np.random.random_sample(1)\n",
    "        # split one random floating sample between 0 and 1 into two.\n",
    "        # prob of less than 0.5 is roughly 1/2 and we from there, we randomly pick a number between 1 to 5\n",
    "        if(randomFloat < 0.5):\n",
    "            randomFloatNew = np.random.random_sample(1)\n",
    "            funnyDiceSample.append(int (np.random.random_sample()*10)%5 + 1)\n",
    "        # split the other half probability is 1/2.\n",
    "        # since prob of getting 6 is 1/2, just append 6\n",
    "        else:\n",
    "            funnyDiceSample.append(6)\n",
    "    \n",
    "    return funnyDiceSample\n",
    "\n",
    "# ## test\n",
    "\n",
    "# def numOfnum(x, n):\n",
    "#     k = 0\n",
    "#     for i in x:\n",
    "#         if i == n:\n",
    "#             k = k + 1\n",
    "#     return k\n",
    "\n",
    "# x = [1,2,3,4,5,6]\n",
    "# for i in x:\n",
    "#     print(numOfnum(funnyDiceRV(1, 1000), i))\n",
    "# print(funnyDiceRV(1, 1000))"
   ]
  },
  {
   "cell_type": "code",
   "execution_count": 40,
   "metadata": {},
   "outputs": [
    {
     "name": "stdout",
     "output_type": "stream",
     "text": [
      "[1.07921167e+00 2.54825051e+00 2.28762717e-04 7.20025510e-01\n",
      " 3.17419190e-01]\n",
      "[2, 1, 0, 1, 2]\n",
      "[1, 1, 4, 6, 3]\n"
     ]
    }
   ],
   "source": [
    "print(exponentialRV(1, 2, 5))# You should test all three functions \n",
    "print(poissonRV(1, 2, 5))\n",
    "print(funnyDiceRV(1, 5))"
   ]
  },
  {
   "cell_type": "markdown",
   "metadata": {},
   "source": [
    "You should use the following routine to plot a histogram of the distribution of all three simulated random variables"
   ]
  },
  {
   "cell_type": "code",
   "execution_count": 41,
   "metadata": {},
   "outputs": [
    {
     "data": {
      "image/png": "[encoded data removed]",
      "text/plain": [
       "<Figure size 432x288 with 1 Axes>"
      ]
     },
     "metadata": {
      "needs_background": "light"
     },
     "output_type": "display_data"
    },
    {
     "data": {
      "image/png": "[encoded data removed]",
      "text/plain": [
       "<Figure size 432x288 with 1 Axes>"
      ]
     },
     "metadata": {
      "needs_background": "light"
     },
     "output_type": "display_data"
    },
    {
     "data": {
      "image/png": "[encoded data removed]",
      "text/plain": [
       "<Figure size 432x288 with 1 Axes>"
      ]
     },
     "metadata": {
      "needs_background": "light"
     },
     "output_type": "display_data"
    }
   ],
   "source": [
    "numberSimulations=10000\n",
    "exponentialSamples=exponentialRV(1, 2,numberSimulations)\n",
    "poissonSamples=poissonRV(1, 4,numberSimulations)\n",
    "funnyDiceSamples=funnyDiceRV(1, numberSimulations)\n",
    "\n",
    "#np.histogram(exponentialSamples)\n",
    "plt.hist(exponentialSamples, bins='auto')\n",
    "plt.title(\"Histogram Exponential\")\n",
    "plt.show()\n",
    "plt.hist(poissonSamples, bins='auto')\n",
    "plt.title(\"Histogram Poisson\")\n",
    "plt.show()\n",
    "plt.hist(funnyDiceSamples, bins='auto')\n",
    "plt.title(\"Histogram Funny Dice\")\n",
    "plt.show()"
   ]
  },
  {
   "cell_type": "markdown",
   "metadata": {},
   "source": [
    "For the exponential random variable, you should then test the empirical expectation and variance of the random variables you generated. Assume you have generated random variables $X_1,X_2,X_3,\\dots,X_n$ calculate the empirical mean \n",
    "\\begin{equation}\n",
    "\\hat{\\text{ }\\mu} =\\frac{\\sum^n_{i=1} X_i}{n}\n",
    "\\end{equation}\n",
    "and the empirical variance \n",
    "\\begin{equation}\n",
    "\\hat{\\text{ }\\sigma} = \\frac{\\sum^n_{i=1}(X_i - \\hat{\\mu})^2}{n}\n",
    "\\end{equation}\n",
    "Use 10000 simulations. In the result of your calculation in line with what you expect? Why?"
   ]
  },
  {
   "cell_type": "code",
   "execution_count": 42,
   "metadata": {},
   "outputs": [],
   "source": [
    "#Here you add the few lines of code for your calculations\n",
    "\n",
    "# function to calculate empirical mean\n",
    "def muHat(seed, mean, n):\n",
    "    return (sum(exponentialRV(seed, mean, n)))/n\n",
    "\n",
    "# function to calculate empirical var\n",
    "def sigHat(seed, mean, n):\n",
    "    return (sum(np.square(exponentialRV(seed,mean,n)-muHat(seed,mean,n))))/n"
   ]
  },
  {
   "cell_type": "code",
   "execution_count": 46,
   "metadata": {},
   "outputs": [],
   "source": [
    "# print(muHat(1,2,10000))\n",
    "# print(sigHat(1,2,5))"
   ]
  },
  {
   "cell_type": "code",
   "execution_count": 47,
   "metadata": {},
   "outputs": [
    {
     "name": "stdout",
     "output_type": "stream",
     "text": [
      "Empirical Mean:  10.032346722540783\n",
      "Empirical Variance:  97.6746650096637\n"
     ]
    }
   ],
   "source": [
    "simSize = 10000\n",
    "\n",
    "# let out expected mean be 10. we can compare the mean we put and calculate\n",
    "# from the generated random numbers from the function\n",
    "seed = 5\n",
    "mean = 10\n",
    "empiricalMean = muHat(seed, mean, simSize)\n",
    "empiricalVar = sigHat(seed, mean, simSize)\n",
    "print(\"Empirical Mean: \", empiricalMean)\n",
    "print(\"Empirical Variance: \", empiricalVar)"
   ]
  },
  {
   "cell_type": "code",
   "execution_count": null,
   "metadata": {},
   "outputs": [],
   "source": [
    "# since the simulatioin size is big enough to expect closer mean and variance with\n",
    "# what it should be, mean was close enough to 10, which is 10.032.\n",
    "# Expected variance is 10^2 which is 100. Empirical variance is 97.674, which is close to 100."
   ]
  },
  {
   "cell_type": "code",
   "execution_count": 48,
   "metadata": {},
   "outputs": [
    {
     "name": "stdout",
     "output_type": "stream",
     "text": [
      "0.9330271286718903\n"
     ]
    }
   ],
   "source": [
    "print(muHat(1,2,5))"
   ]
  },
  {
   "cell_type": "code",
   "execution_count": 49,
   "metadata": {},
   "outputs": [
    {
     "data": {
      "text/plain": [
       "array([1.07921167e+00, 2.54825051e+00, 2.28762717e-04, 7.20025510e-01,\n",
       "       3.17419190e-01])"
      ]
     },
     "execution_count": 49,
     "metadata": {},
     "output_type": "execute_result"
    }
   ],
   "source": [
    "exponentialRV(1,2,5)"
   ]
  },
  {
   "cell_type": "code",
   "execution_count": 50,
   "metadata": {},
   "outputs": [
    {
     "data": {
      "text/plain": [
       "array([ 0.14618455,  1.61522338, -0.93279837, -0.21300162, -0.61560794])"
      ]
     },
     "execution_count": 50,
     "metadata": {},
     "output_type": "execute_result"
    }
   ],
   "source": [
    "exponentialRV(1,2,5)-muHat(1,2,5)\n"
   ]
  },
  {
   "cell_type": "code",
   "execution_count": null,
   "metadata": {},
   "outputs": [],
   "source": []
  }
 ],
 "metadata": {
  "anaconda-cloud": {},
  "kernelspec": {
   "display_name": "Python 3",
   "language": "python",
   "name": "python3"
  },
  "language_info": {
   "codemirror_mode": {
    "name": "ipython",
    "version": 3
   },
   "file_extension": ".py",
   "mimetype": "text/x-python",
   "name": "python",
   "nbconvert_exporter": "python",
   "pygments_lexer": "ipython3",
   "version": "3.6.7"
  }
 },
 "nbformat": 4,
 "nbformat_minor": 2
}
