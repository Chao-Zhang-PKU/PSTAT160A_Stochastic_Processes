{
 "cells": [
  {
   "cell_type": "markdown",
   "metadata": {},
   "source": [
    "# Python Homework 2"
   ]
  },
  {
   "cell_type": "markdown",
   "metadata": {},
   "source": [
    "A stochastic model for a car insurance company's total cost of damages from traffic accidents goes back to the work by Van der Lann and Louter, \"A statistical model for the costs of passenger car traffic accidents\", Journal of the Royal Statistical Society (1986).\n",
    "\n",
    "For every $k=1,2,3\\ldots$ we denote by the random variable $X_k$ the US dollar amount of a damage from a policy holder's traffic accident which will occur during the year 2019.\n",
    "\n",
    "We assume that $X_1$, $X_2$,... is an i.i.d. (independent and identically distributed) sequence of exponentially distributed random variables with an average claim size of \\$1,000 USD. The (random) total number of accidents $N$ in 2019 is expected to be Poisson distributed with 20 claims on average.\n",
    "\n",
    "It is assumed that the number of accidents is independent of the US dollar amount of damages for each accident. That is, the random variable $N$ is independent of the random variables $X_1$, $X_2$,...\n",
    "\n",
    "The total costs for the insurance company by the end of 2019 will thus be given by the <b>random sum</b> \n",
    "\n",
    "$$S_N := X_1 + X_2 + \\dots + X_N = \\sum_{k = 1}^{N} X_k.$$\n",
    "\n",
    "Note that the total number $N$ of accidents is random!"
   ]
  },
  {
   "cell_type": "markdown",
   "metadata": {},
   "source": [
    "The goal of the current exercise is to approximate \n",
    "\n",
    "* the expected total costs $$\\mathbb{E}[S_N]$$ for the insurance company in 2019, and\n",
    "\n",
    "\n",
    "* <b>Fun part (not graded):</b> the probabilities that the total cost will not exceed $K$ USD, i.e., \n",
    "\n",
    "$$\\mathbb{P}[S_N \\leq K] \\quad \\text{for} \\, K = \\$20,000,\\text{  and  } K=\\$45,000,$$\n",
    "\n",
    "via simulation."
   ]
  },
  {
   "cell_type": "markdown",
   "metadata": {},
   "source": [
    "As usual, we start with loading some packages:"
   ]
  },
  {
   "cell_type": "code",
   "execution_count": 1,
   "metadata": {},
   "outputs": [],
   "source": [
    "import numpy as np\n",
    "import math"
   ]
  },
  {
   "cell_type": "markdown",
   "metadata": {},
   "source": [
    "<b>Step 1:</b><br>\n",
    "First, write a function which simulates the random variable $S_N$. The output should just be a single scalar!\n",
    "\n",
    "<i>Hint:</i> Use proper build-in functions from the <i>NumPy</i>-package in your code in order to sample from a Poisson distribution and from an Exponential distribution: "
   ]
  },
  {
   "cell_type": "code",
   "execution_count": 29,
   "metadata": {},
   "outputs": [],
   "source": [
    "def randomSum(averageClaimSize, averageNumberOfClaims):\n",
    "    \n",
    "    ## Write your own code here\n",
    "    \n",
    "    # sample random sum is \n",
    "    # sum(exponential(averageClaimSize, pois(averageNumberOfClaims, averageClaimSize)))\n",
    "    \n",
    "    # total number of accidents is generated poisson distributed random value given averageNumberOfClaims\n",
    "    \n",
    "    # damage cost is generated exponentially distributed \n",
    "    # based on the averageClaimSize, total number of accidents\n",
    "    # sampleRandomSum is adding up all the numbers in the damage cost list\n",
    "    \n",
    "    sampleRandomSum = sum(np.random.exponential(averageClaimSize, np.random.poisson(averageNumberOfClaims, 1)))\n",
    "    \n",
    "    return sampleRandomSum  "
   ]
  },
  {
   "cell_type": "code",
   "execution_count": 30,
   "metadata": {},
   "outputs": [
    {
     "data": {
      "text/plain": [
       "24754.84544170021"
      ]
     },
     "execution_count": 30,
     "metadata": {},
     "output_type": "execute_result"
    }
   ],
   "source": [
    "## Test your function\n",
    "randomSum(1000,20)"
   ]
  },
  {
   "cell_type": "markdown",
   "metadata": {},
   "source": [
    "<b>Step 2:</b><br>Write a simulator function which uses the function <tt>randomSum()</tt> to simulate $M \\in \\mathbb{N}$ samples from the random variable $S_N$. The output should be an array of length $M$."
   ]
  },
  {
   "cell_type": "code",
   "execution_count": 4,
   "metadata": {},
   "outputs": [],
   "source": [
    "def simulator(averageClaimSize, averageNumberOfClaims, M):\n",
    "\n",
    "    ## Write your own code here\n",
    "    samples = []\n",
    "    for i in range(M):\n",
    "        # simulate randomSum for M times\n",
    "        # generate a list of length M with randomSums\n",
    "        samples.append(randomSum(averageClaimSize, averageNumberOfClaims))\n",
    "    \n",
    "    return samples"
   ]
  },
  {
   "cell_type": "code",
   "execution_count": 5,
   "metadata": {},
   "outputs": [
    {
     "data": {
      "text/plain": [
       "[13502.626709397291,\n",
       " 22190.86077902748,\n",
       " 26742.600104952744,\n",
       " 27085.927334329608,\n",
       " 10006.599575904926,\n",
       " 20366.221055758026,\n",
       " 18255.58680071177,\n",
       " 17696.146318750903,\n",
       " 28907.917599381974,\n",
       " 18303.044672175653]"
      ]
     },
     "execution_count": 5,
     "metadata": {},
     "output_type": "execute_result"
    }
   ],
   "source": [
    "## Test your function\n",
    "simulator(1000,20,10)"
   ]
  },
  {
   "cell_type": "markdown",
   "metadata": {},
   "source": [
    "<b>Step 3:</b><br>As we will see in section, it holds via the so-called <b>Wald's Identity</b> that the expectation of the random sum $S_N$ is actually given by the formula\n",
    "\n",
    "\\begin{equation}\n",
    "\\mathbb{E}[S_N] = \\mathbb{E}[N] \\cdot \\mathbb{E}[X_1] = 20 \\cdot \\$1,000 = \\$20,000.\n",
    "\\end{equation}\n",
    "\n",
    "Check via the empirical mean that\n",
    "\n",
    "$$ \\$20,000 = \\mathbb{E}[S_N] \\approx \\frac{1}{M} \\sum_{m=1}^M s^{(m)}_N$$\n",
    "\n",
    "where $s^{(1)}_N, s^{(2)}_N, \\ldots, s^{(M)}_N$ denote $M$ independent realizations (samples) from the random variable $S_N$. Use $M = 10, 100, 1000, 10000$ simulations.  "
   ]
  },
  {
   "cell_type": "markdown",
   "metadata": {},
   "source": [
    "That is, write a function <tt>MCsimulation()</tt> which uses the function <tt>simulator()</tt> to compute the empirical mean. The output should be a number in $\\mathbb{R}_+$:"
   ]
  },
  {
   "cell_type": "code",
   "execution_count": 10,
   "metadata": {},
   "outputs": [],
   "source": [
    "def MCsimulation(averageClaimSize, averageNumberOfClaims, M):\n",
    "\n",
    "    ## Write your own code here\n",
    "    \n",
    "    # to get empirical mean, simulate M times, sum them up, and divide by M\n",
    "    empricialMean = sum(simulator(averageClaimSize, averageNumberOfClaims, M))/M\n",
    "     \n",
    "    return empricialMean"
   ]
  },
  {
   "cell_type": "code",
   "execution_count": 11,
   "metadata": {},
   "outputs": [
    {
     "data": {
      "text/plain": [
       "21028.878693331095"
      ]
     },
     "execution_count": 11,
     "metadata": {},
     "output_type": "execute_result"
    }
   ],
   "source": [
    "## Test your function\n",
    "MCsimulation(1000,20,10)"
   ]
  },
  {
   "cell_type": "code",
   "execution_count": 12,
   "metadata": {},
   "outputs": [
    {
     "name": "stdout",
     "output_type": "stream",
     "text": [
      "1741.8762861930845\n",
      "629.1792495236987\n",
      "325.3245221729594\n",
      "68.60809668097863\n",
      "3.611958001049061\n",
      "8.023766359874571\n"
     ]
    }
   ],
   "source": [
    "## Compute the absolute error\n",
    "print(np.absolute(MCsimulation(1000, 20, 10)-20000))\n",
    "print(np.absolute(MCsimulation(1000, 20, 100)-20000))\n",
    "print(np.absolute(MCsimulation(1000, 20, 1000)-20000))\n",
    "print(np.absolute(MCsimulation(1000, 20, 10000)-20000))\n",
    "print(np.absolute(MCsimulation(1000, 20, 20000)-20000))\n",
    "print(np.absolute(MCsimulation(1000, 20, 50000)-20000))"
   ]
  },
  {
   "cell_type": "markdown",
   "metadata": {},
   "source": [
    "<b>Step 4: (just for fun and excercise, not graded)</b><br>Recall from class that the desired probabilities $\\mathbb{P}[S_N \\leq K]$ for $K = \\$20,000,\\text{ and } \\$45,000$ can be computed as expectations via an indicator function\n",
    "\n",
    "$$ \\mathbb{P}[S_N \\leq K] = \\mathbb{E}[1_{\\{S_N \\leq K\\}}]$$\n",
    "\n",
    "We use once more the empricial mean to approximate\n",
    "\n",
    "$$ \\mathbb{E}[1_{\\{S_N \\leq K\\}}] \\approx \\frac{1}{M} \\sum_{m=1}^M 1_{\\{s^{(m)}_N \\leq K \\}}$$\n",
    "\n",
    "with $M$ independent realizations (samples) from the random variable $S_N$ (again denoted by $s^{(1)}_N, s^{(2)}_N, \\ldots, s^{(M)}_N$)."
   ]
  },
  {
   "cell_type": "markdown",
   "metadata": {},
   "source": [
    "Write a function <tt>MCprobEstimation()</tt> which estimates the probabilities $\\mathbb{P}[S_N \\leq K]$ for $K = \\$20,000,\\text{  and  } K=\\$45,000$ as described based on $M$ simulations of $S_N$. The output should be a real number in [0,1]:"
   ]
  },
  {
   "cell_type": "code",
   "execution_count": null,
   "metadata": {
    "collapsed": true
   },
   "outputs": [],
   "source": [
    "def MCprobEstimation(averageClaimSize, averageNumberOfClaims, K, M):\n",
    "\n",
    "    ## Write your own code here\n",
    "    \n",
    "    return empricialProb"
   ]
  },
  {
   "cell_type": "code",
   "execution_count": null,
   "metadata": {
    "collapsed": true
   },
   "outputs": [],
   "source": [
    "## Test your function\n",
    "MCprobEstimation(1000, 20, 20000, 10)"
   ]
  },
  {
   "cell_type": "markdown",
   "metadata": {},
   "source": [
    "Test your function with varying $M = 100, 1000, 10000$ simulations:"
   ]
  },
  {
   "cell_type": "code",
   "execution_count": null,
   "metadata": {
    "collapsed": true
   },
   "outputs": [],
   "source": [
    "print(MCprobEstimation(averageClaimSize, averageNumberOfClaims, 20000, 100))\n",
    "print(MCprobEstimation(averageClaimSize, averageNumberOfClaims, 20000, 1000))\n",
    "print(MCprobEstimation(averageClaimSize, averageNumberOfClaims, 20000, 10000))"
   ]
  },
  {
   "cell_type": "code",
   "execution_count": null,
   "metadata": {
    "collapsed": true
   },
   "outputs": [],
   "source": [
    "print(MCprobEstimation(averageClaimSize, averageNumberOfClaims, 45000, 100))\n",
    "print(MCprobEstimation(averageClaimSize, averageNumberOfClaims, 45000, 1000))\n",
    "print(MCprobEstimation(averageClaimSize, averageNumberOfClaims, 45000, 10000))"
   ]
  }
 ],
 "metadata": {
  "anaconda-cloud": {},
  "kernelspec": {
   "display_name": "Python 3",
   "language": "python",
   "name": "python3"
  },
  "language_info": {
   "codemirror_mode": {
    "name": "ipython",
    "version": 3
   },
   "file_extension": ".py",
   "mimetype": "text/x-python",
   "name": "python",
   "nbconvert_exporter": "python",
   "pygments_lexer": "ipython3",
   "version": "3.6.7"
  }
 },
 "nbformat": 4,
 "nbformat_minor": 2
}
